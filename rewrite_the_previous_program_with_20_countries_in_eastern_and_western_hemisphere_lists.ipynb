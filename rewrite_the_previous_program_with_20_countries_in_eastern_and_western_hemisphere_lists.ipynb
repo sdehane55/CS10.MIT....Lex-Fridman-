{
  "cells": [
    {
      "cell_type": "markdown",
      "metadata": {
        "id": "view-in-github",
        "colab_type": "text"
      },
      "source": [
        "<a href=\"https://colab.research.google.com/github/sdehane55/CS10.MIT....Lex-Fridman-/blob/master/rewrite_the_previous_program_with_20_countries_in_eastern_and_western_hemisphere_lists.ipynb\" target=\"_parent\"><img src=\"https://colab.research.google.com/assets/colab-badge.svg\" alt=\"Open In Colab\"/></a>"
      ]
    },
    {
      "cell_type": "markdown",
      "source": [
        "Here is the modified program with 20 countries in each hemisphere list:"
      ],
      "metadata": {
        "id": "pYLAjfA71Ztr"
      }
    },
    {
      "cell_type": "code",
      "source": [
        "import random\n",
        "\n",
        "# Define lists of Eastern and Western Hemisphere countries\n",
        "eastern_hemisphere = [\n",
        "    \"China\", \"Japan\", \"India\", \"Russia\", \"Australia\", \"Indonesia\", \"Philippines\",\n",
        "    \"Vietnam\", \"Thailand\", \"South Korea\", \"Myanmar\", \"North Korea\", \"Taiwan\",\n",
        "    \"Bangladesh\", \"Pakistan\", \"Iran\", \"Turkey\", \"Saudi Arabia\", \"Iraq\"\n",
        "]\n",
        "western_hemisphere = [\n",
        "    \"United States\", \"Canada\", \"Mexico\", \"Brazil\", \"Argentina\", \"Colombia\",\n",
        "    \"Peru\", \"Venezuela\", \"Chile\", \"Ecuador\", \"Bolivia\", \"Cuba\", \"Guatemala\",\n",
        "    \"Dominican Republic\", \"Haiti\", \"Honduras\", \"Nicaragua\", \"El Salvador\", \"Costa Rica\"\n",
        "]\n",
        "\n",
        "def generate_countries():\n",
        "    \"\"\"\n",
        "    Generates and returns a list of five countries from each hemisphere.\n",
        "    \"\"\"\n",
        "    eastern_chosen = random.sample(eastern_hemisphere, 20)\n",
        "    western_chosen = random.sample(western_hemisphere, 20)\n",
        "    return eastern_chosen, western_chosen\n",
        "\n",
        "def find_common_letters(country1, country2):\n",
        "    \"\"\"\n",
        "    Finds the number of letters in common between two country names.\n",
        "    \"\"\"\n",
        "    common_letters = set(country1.lower()) & set(country2.lower())\n",
        "    return len(common_letters)\n",
        "\n",
        "def main():\n",
        "    \"\"\"\n",
        "    Main program loop.\n",
        "    \"\"\"\n",
        "    while True:\n",
        "        eastern_chosen, western_chosen = generate_countries()\n",
        "\n",
        "        # Find country pairs with the most common letters\n",
        "        max_common_letters = 0\n",
        "        eastern_pair = None\n",
        "        western_pair = None\n",
        "        for e in eastern_chosen:\n",
        "            for w in western_chosen:\n",
        "                common_letters = find_common_letters(e, w)\n",
        "                if common_letters > max_common_letters:\n",
        "                    max_common_letters = common_letters\n",
        "                    eastern_pair = e\n",
        "                    western_pair = w\n",
        "\n",
        "        # Print results\n",
        "        print(\"Eastern countries:\", \", \".join(eastern_chosen))\n",
        "        print(\"Western countries:\", \", \".join(western_chosen))\n",
        "        print(f\"Most common letters: {max_common_letters} between {eastern_pair} and {western_pair}\")\n",
        "\n",
        "        # User input\n",
        "        choice = input(\"Generate another cycle (y/n)? \").lower()\n",
        "        if choice != \"y\":\n",
        "            break\n",
        "\n",
        "if __name__ == \"__main__\":\n",
        "    main()"
      ],
      "outputs": [],
      "execution_count": null,
      "metadata": {
        "id": "tL8KbfGG1Ztx"
      }
    },
    {
      "cell_type": "markdown",
      "source": [
        "The changes made are:\n",
        "\n",
        "* The `eastern_hemisphere` and `western_hemisphere` lists now contain 20 countries each.\n",
        "* The `generate_countries` function now samples 20 countries from each list instead of 5.\n",
        "* The rest of the program logic remains the same.\n",
        "\n",
        "This modified program will generate and compare pairs of countries from the expanded lists, allowing for a wider range of potential matches and potentially higher number of common letters."
      ],
      "metadata": {
        "id": "uT5O3Mqx1Zt0"
      }
    }
  ],
  "metadata": {
    "colab": {
      "provenance": [],
      "include_colab_link": true
    },
    "kernelspec": {
      "display_name": "Python 3",
      "name": "python3"
    }
  },
  "nbformat": 4,
  "nbformat_minor": 0
}