{
  "cells": [
    {
      "cell_type": "markdown",
      "metadata": {
        "id": "view-in-github",
        "colab_type": "text"
      },
      "source": [
        "<a href=\"https://colab.research.google.com/github/sdehane55/CS10.MIT....Lex-Fridman-/blob/master/write_a_python_code_of_an_example_of_the_simplest_version_of_a_turing_machine.ipynb\" target=\"_parent\"><img src=\"https://colab.research.google.com/assets/colab-badge.svg\" alt=\"Open In Colab\"/></a>"
      ]
    },
    {
      "cell_type": "markdown",
      "source": [
        "Here is an example of a simple Turing machine in Python:"
      ],
      "metadata": {
        "id": "AvfgIvIgBlEx"
      }
    },
    {
      "cell_type": "code",
      "source": [
        "class TuringMachine:\n",
        "    def __init__(self, tape, state, rules):\n",
        "        self.tape = tape\n",
        "        self.state = state\n",
        "        self.head = 0  # Position of the head on the tape\n",
        "        self.rules = rules\n",
        "\n",
        "    def step(self):\n",
        "        \"\"\"\n",
        "        Performs one step of the Turing machine.\n",
        "        \"\"\"\n",
        "        current_symbol = self.tape[self.head]\n",
        "        rule = self.rules.get((self.state, current_symbol))\n",
        "\n",
        "        if rule is None:\n",
        "            raise RuntimeError(f\"No rule found for state '{self.state}' and symbol '{current_symbol}'\")\n",
        "\n",
        "        new_symbol, new_state, move = rule\n",
        "\n",
        "        self.tape[self.head] = new_symbol\n",
        "        self.state = new_state\n",
        "        self.head += move  # Move the head left/right\n",
        "\n",
        "    def run(self):\n",
        "        \"\"\"\n",
        "        Runs the Turing machine until it reaches a final state or an error occurs.\n",
        "        \"\"\"\n",
        "        while True:\n",
        "            try:\n",
        "                self.step()\n",
        "            except RuntimeError as error:\n",
        "                print(error)\n",
        "                break\n",
        "\n",
        "\n",
        "# Example usage\n",
        "tape = [\"0\", \"1\", \"0\", \"1\"]  # Initial tape\n",
        "state = \"q0\"  # Initial state\n",
        "rules = {\n",
        "    (\"q0\", \"0\"): (\"1\", \"q1\", 1),  # Write 1, go to state q1, move right\n",
        "    (\"q0\", \"1\"): (\"0\", \"q2\", -1),  # Write 0, go to state q2, move left\n",
        "    (\"q1\", \"0\"): (\"1\", \"q1\", 1),  # Write 1, stay in state q1, move right\n",
        "    (\"q1\", \"1\"): (\"0\", \"q0\", -1),  # Write 0, go to state q0, move left\n",
        "    (\"q2\", \"0\"): (\"0\", \"q2\", -1),  # Write 0, stay in state q2, move left\n",
        "    (\"q2\", \"1\"): (\"1\", \"q0\", 1),  # Write 1, go to state q0, move right\n",
        "}\n",
        "\n",
        "turing_machine = TuringMachine(tape, state, rules)\n",
        "turing_machine.run()\n",
        "\n",
        "# Print the final state and tape\n",
        "print(f\"Final state: {turing_machine.state}\")\n",
        "print(f\"Final tape: {turing_machine.tape}\")"
      ],
      "outputs": [
        {
          "output_type": "error",
          "ename": "IndexError",
          "evalue": "ignored",
          "traceback": [
            "\u001b[0;31m---------------------------------------------------------------------------\u001b[0m",
            "\u001b[0;31mIndexError\u001b[0m                                Traceback (most recent call last)",
            "\u001b[0;32m<ipython-input-1-72af5711b98b>\u001b[0m in \u001b[0;36m<cell line: 49>\u001b[0;34m()\u001b[0m\n\u001b[1;32m     47\u001b[0m \u001b[0;34m\u001b[0m\u001b[0m\n\u001b[1;32m     48\u001b[0m \u001b[0mturing_machine\u001b[0m \u001b[0;34m=\u001b[0m \u001b[0mTuringMachine\u001b[0m\u001b[0;34m(\u001b[0m\u001b[0mtape\u001b[0m\u001b[0;34m,\u001b[0m \u001b[0mstate\u001b[0m\u001b[0;34m,\u001b[0m \u001b[0mrules\u001b[0m\u001b[0;34m)\u001b[0m\u001b[0;34m\u001b[0m\u001b[0;34m\u001b[0m\u001b[0m\n\u001b[0;32m---> 49\u001b[0;31m \u001b[0mturing_machine\u001b[0m\u001b[0;34m.\u001b[0m\u001b[0mrun\u001b[0m\u001b[0;34m(\u001b[0m\u001b[0;34m)\u001b[0m\u001b[0;34m\u001b[0m\u001b[0;34m\u001b[0m\u001b[0m\n\u001b[0m\u001b[1;32m     50\u001b[0m \u001b[0;34m\u001b[0m\u001b[0m\n\u001b[1;32m     51\u001b[0m \u001b[0;31m# Print the final state and tape\u001b[0m\u001b[0;34m\u001b[0m\u001b[0;34m\u001b[0m\u001b[0m\n",
            "\u001b[0;32m<ipython-input-1-72af5711b98b>\u001b[0m in \u001b[0;36mrun\u001b[0;34m(self)\u001b[0m\n\u001b[1;32m     28\u001b[0m         \u001b[0;32mwhile\u001b[0m \u001b[0;32mTrue\u001b[0m\u001b[0;34m:\u001b[0m\u001b[0;34m\u001b[0m\u001b[0;34m\u001b[0m\u001b[0m\n\u001b[1;32m     29\u001b[0m             \u001b[0;32mtry\u001b[0m\u001b[0;34m:\u001b[0m\u001b[0;34m\u001b[0m\u001b[0;34m\u001b[0m\u001b[0m\n\u001b[0;32m---> 30\u001b[0;31m                 \u001b[0mself\u001b[0m\u001b[0;34m.\u001b[0m\u001b[0mstep\u001b[0m\u001b[0;34m(\u001b[0m\u001b[0;34m)\u001b[0m\u001b[0;34m\u001b[0m\u001b[0;34m\u001b[0m\u001b[0m\n\u001b[0m\u001b[1;32m     31\u001b[0m             \u001b[0;32mexcept\u001b[0m \u001b[0mRuntimeError\u001b[0m \u001b[0;32mas\u001b[0m \u001b[0merror\u001b[0m\u001b[0;34m:\u001b[0m\u001b[0;34m\u001b[0m\u001b[0;34m\u001b[0m\u001b[0m\n\u001b[1;32m     32\u001b[0m                 \u001b[0mprint\u001b[0m\u001b[0;34m(\u001b[0m\u001b[0merror\u001b[0m\u001b[0;34m)\u001b[0m\u001b[0;34m\u001b[0m\u001b[0;34m\u001b[0m\u001b[0m\n",
            "\u001b[0;32m<ipython-input-1-72af5711b98b>\u001b[0m in \u001b[0;36mstep\u001b[0;34m(self)\u001b[0m\n\u001b[1;32m     10\u001b[0m         \u001b[0mPerforms\u001b[0m \u001b[0mone\u001b[0m \u001b[0mstep\u001b[0m \u001b[0mof\u001b[0m \u001b[0mthe\u001b[0m \u001b[0mTuring\u001b[0m \u001b[0mmachine\u001b[0m\u001b[0;34m.\u001b[0m\u001b[0;34m\u001b[0m\u001b[0;34m\u001b[0m\u001b[0m\n\u001b[1;32m     11\u001b[0m         \"\"\"\n\u001b[0;32m---> 12\u001b[0;31m         \u001b[0mcurrent_symbol\u001b[0m \u001b[0;34m=\u001b[0m \u001b[0mself\u001b[0m\u001b[0;34m.\u001b[0m\u001b[0mtape\u001b[0m\u001b[0;34m[\u001b[0m\u001b[0mself\u001b[0m\u001b[0;34m.\u001b[0m\u001b[0mhead\u001b[0m\u001b[0;34m]\u001b[0m\u001b[0;34m\u001b[0m\u001b[0;34m\u001b[0m\u001b[0m\n\u001b[0m\u001b[1;32m     13\u001b[0m         \u001b[0mrule\u001b[0m \u001b[0;34m=\u001b[0m \u001b[0mself\u001b[0m\u001b[0;34m.\u001b[0m\u001b[0mrules\u001b[0m\u001b[0;34m.\u001b[0m\u001b[0mget\u001b[0m\u001b[0;34m(\u001b[0m\u001b[0;34m(\u001b[0m\u001b[0mself\u001b[0m\u001b[0;34m.\u001b[0m\u001b[0mstate\u001b[0m\u001b[0;34m,\u001b[0m \u001b[0mcurrent_symbol\u001b[0m\u001b[0;34m)\u001b[0m\u001b[0;34m)\u001b[0m\u001b[0;34m\u001b[0m\u001b[0;34m\u001b[0m\u001b[0m\n\u001b[1;32m     14\u001b[0m \u001b[0;34m\u001b[0m\u001b[0m\n",
            "\u001b[0;31mIndexError\u001b[0m: list index out of range"
          ]
        }
      ],
      "execution_count": 1,
      "metadata": {
        "colab": {
          "base_uri": "https://localhost:8080/",
          "height": 391
        },
        "id": "by1BEEIlBlEz",
        "outputId": "109098bf-7a74-4714-cf2f-45ad63927b9b"
      }
    },
    {
      "cell_type": "markdown",
      "source": [
        "This code defines a Turing machine class with the following attributes:\n",
        "\n",
        "* `tape`: A list representing the tape of the machine.\n",
        "* `state`: The current state of the machine.\n",
        "* `head`: The position of the head on the tape.\n",
        "* `rules`: A dictionary containing the rules for the machine. The rules map a combination of state and current symbol to a new symbol, new state, and direction to move the head.\n",
        "\n",
        "The `step` method performs one step of the Turing machine by reading the current symbol under the head, applying the corresponding rule, and updating the tape, state, and head position. The `run` method repeatedly calls the `step` method until the machine reaches a final state or encounters an error.\n",
        "\n",
        "This example Turing machine simply reverses the order of the symbols on the tape. It demonstrates the basic principles of a Turing machine, including reading symbols, changing states, writing symbols, and moving the head."
      ],
      "metadata": {
        "id": "GRrrhLhzBlE1"
      }
    }
  ],
  "metadata": {
    "colab": {
      "provenance": [],
      "include_colab_link": true
    },
    "kernelspec": {
      "display_name": "Python 3",
      "name": "python3"
    }
  },
  "nbformat": 4,
  "nbformat_minor": 0
}